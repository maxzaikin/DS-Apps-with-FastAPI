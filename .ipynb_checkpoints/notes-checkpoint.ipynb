{
 "cells": [
  {
   "cell_type": "markdown",
   "id": "31da89da-2f68-4241-b1d0-a41afcfdad22",
   "metadata": {},
   "source": [
    "# BUILDING A DATA SCIENCE APP WITH FAST-API"
   ]
  },
  {
   "cell_type": "markdown",
   "id": "bc60f7ec-f0e8-4f96-afd4-9052329b4c28",
   "metadata": {},
   "source": [
    "## SECTION 1: Introduction to Python and Fast-API"
   ]
  },
  {
   "cell_type": "markdown",
   "id": "3c36e155-d3a8-49ff-a135-50bba1e61c53",
   "metadata": {},
   "source": [
    "### Chapter 2\n",
    "\n",
    "https://docs.python.org/3/library/stdtypes.html"
   ]
  },
  {
   "cell_type": "markdown",
   "id": "364f9e6e-e861-4dcd-ab75-ead327ac6bab",
   "metadata": {},
   "source": [
    "#### Lists\n",
    "\n",
    "Lists are the classic arrays\n",
    "Lists are mutable"
   ]
  },
  {
   "cell_type": "code",
   "execution_count": null,
   "id": "e4fc88d5-abae-4296-b565-0a718c1f6883",
   "metadata": {},
   "outputs": [],
   "source": [
    "\n",
    "\n",
    "l= [1,2,3,4] "
   ]
  },
  {
   "cell_type": "markdown",
   "id": "45e9311a-baa1-4bf2-92a9-85c89fe17d02",
   "metadata": {},
   "source": [
    "#### Tuples\n",
    "\n",
    "- Tuplase same as lists but imutable\n",
    "- Mostly used as a return value from func  \n",
    "    return (a,b)\n"
   ]
  },
  {
   "cell_type": "code",
   "execution_count": 1,
   "id": "66b4924b-ddcb-44b8-b359-9737c7538d6e",
   "metadata": {},
   "outputs": [],
   "source": [
    "t= (1,2,3,4)"
   ]
  },
  {
   "cell_type": "markdown",
   "id": "cacc8f6a-4b6a-413c-9821-3fa6d0997cad",
   "metadata": {},
   "source": [
    "#### Dict\n",
    "- dicts are mitable"
   ]
  },
  {
   "cell_type": "code",
   "execution_count": 2,
   "id": "1f8c924e-6c43-4f85-bce8-172b77ab7cfe",
   "metadata": {},
   "outputs": [],
   "source": [
    "d= {'a':1, 'b':2}"
   ]
  },
  {
   "cell_type": "markdown",
   "id": "943fe7c5-2895-4709-a718-2abb63ca7d34",
   "metadata": {},
   "source": [
    "#### Sets\n",
    "\n",
    "- store collections of unique values"
   ]
  },
  {
   "cell_type": "code",
   "execution_count": 4,
   "id": "abd78a01-ca31-4f61-a275-340394b44aba",
   "metadata": {},
   "outputs": [
    {
     "name": "stdout",
     "output_type": "stream",
     "text": [
      "{1, 2, 3, 4}\n",
      "{1, 2, 3, 4, 6, 7}\n",
      "{3, 4}\n"
     ]
    }
   ],
   "source": [
    "s= {1,2,3,4}\n",
    "s.add(1)\n",
    "print(s)\n",
    "print(s.union({6,7}))\n",
    "print(s.intersection({3,4}))"
   ]
  },
  {
   "cell_type": "markdown",
   "id": "7dc2959a-e784-4d12-841f-dc502183eb90",
   "metadata": {},
   "source": [
    "#### Boolean"
   ]
  },
  {
   "cell_type": "code",
   "execution_count": 5,
   "id": "d8969172-6120-4b6d-ac8f-0d988cf43d02",
   "metadata": {},
   "outputs": [
    {
     "name": "stdout",
     "output_type": "stream",
     "text": [
      "True\n"
     ]
    }
   ],
   "source": [
    "# check for Null\n",
    "\n",
    "a = None\n",
    "\n",
    "print(a is None)"
   ]
  },
  {
   "cell_type": "markdown",
   "id": "28eb83f0-895d-4951-8d0e-f61d1ce03392",
   "metadata": {},
   "source": [
    "#### *args, **kwargs\n",
    "\n",
    "- arguments\n",
    "- keyword arguments"
   ]
  },
  {
   "cell_type": "markdown",
   "id": "e40a5e4e-d3be-4ac9-b394-d1f43a2b6b80",
   "metadata": {},
   "source": [
    "#### module\n",
    "\n",
    "In python module is a single file\n",
    "- for ex. module.py"
   ]
  },
  {
   "cell_type": "markdown",
   "id": "e27c9dcf-13d2-4f3b-af5f-6d4292866d6d",
   "metadata": {},
   "source": [
    "#### Package\n",
    "\n",
    "Package is the way to organize modules in a hierarchy\n",
    "- project\n",
    "    | package\n",
    "    |--subpackage\n",
    "    |---|\n",
    "    |---|---module.py\n",
    "\n",
    "- package should containt an empty __init__.py file at the root of each package or subpackage, and one without - a namespace package(https://packaging.python.org/guides/packaging-namespace-packages/)\n",
    "\n",
    "- Package is executed the first time when we import the package or one of its sub-modules. It's useful to perform some initialization logic for our package."
   ]
  }
 ],
 "metadata": {
  "kernelspec": {
   "display_name": "Python 3 (ipykernel)",
   "language": "python",
   "name": "python3"
  },
  "language_info": {
   "codemirror_mode": {
    "name": "ipython",
    "version": 3
   },
   "file_extension": ".py",
   "mimetype": "text/x-python",
   "name": "python",
   "nbconvert_exporter": "python",
   "pygments_lexer": "ipython3",
   "version": "3.11.10"
  }
 },
 "nbformat": 4,
 "nbformat_minor": 5
}
